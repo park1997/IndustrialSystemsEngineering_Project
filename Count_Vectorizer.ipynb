{
 "cells": [
  {
   "cell_type": "code",
   "execution_count": 1,
   "metadata": {},
   "outputs": [],
   "source": [
    "import requests\n",
    "from urllib.request import urlopen\n",
    "from urllib.parse import urlencode,unquote,quote_plus\n",
    "import urllib\n",
    "import lxml\n",
    "import pandas as pd\n",
    "import numpy as np\n",
    "from bs4 import BeautifulSoup\n",
    "import re"
   ]
  },
  {
   "cell_type": "code",
   "execution_count": 2,
   "metadata": {},
   "outputs": [
    {
     "data": {
      "text/html": [
       "<div>\n",
       "<style scoped>\n",
       "    .dataframe tbody tr th:only-of-type {\n",
       "        vertical-align: middle;\n",
       "    }\n",
       "\n",
       "    .dataframe tbody tr th {\n",
       "        vertical-align: top;\n",
       "    }\n",
       "\n",
       "    .dataframe thead th {\n",
       "        text-align: right;\n",
       "    }\n",
       "</style>\n",
       "<table border=\"1\" class=\"dataframe\">\n",
       "  <thead>\n",
       "    <tr style=\"text-align: right;\">\n",
       "      <th></th>\n",
       "      <th>ID</th>\n",
       "      <th>판례내용</th>\n",
       "      <th>판결유형</th>\n",
       "    </tr>\n",
       "  </thead>\n",
       "  <tbody>\n",
       "    <tr>\n",
       "      <th>0</th>\n",
       "      <td>216815</td>\n",
       "      <td>【원고, 피상고인】 원고 (소송대리인 변호사 방극성 외 2인)【피고, 상고인】 완주...</td>\n",
       "      <td>일반행정</td>\n",
       "    </tr>\n",
       "    <tr>\n",
       "      <th>1</th>\n",
       "      <td>216821</td>\n",
       "      <td>【피 고 인】 피고인【상 고 인】 피고인【변 호 인】 법무법인 청목 담당변호사 김형...</td>\n",
       "      <td>형사</td>\n",
       "    </tr>\n",
       "    <tr>\n",
       "      <th>2</th>\n",
       "      <td>216819</td>\n",
       "      <td>【피 고 인】 피고인【상 고 인】 피고인【변 호 인】 법무법인 더가람 담당변호사 박...</td>\n",
       "      <td>형사</td>\n",
       "    </tr>\n",
       "    <tr>\n",
       "      <th>3</th>\n",
       "      <td>216807</td>\n",
       "      <td>【원고, 상고인】 현대건설 주식회사 (소송대리인 법무법인(유한) 지평 담당변호사 김...</td>\n",
       "      <td>민사</td>\n",
       "    </tr>\n",
       "    <tr>\n",
       "      <th>4</th>\n",
       "      <td>216803</td>\n",
       "      <td>【원고, 피상고인 겸 상고인】 한국토지주택공사 (소송대리인 변호사 박석곤)【피고, ...</td>\n",
       "      <td>민사</td>\n",
       "    </tr>\n",
       "    <tr>\n",
       "      <th>...</th>\n",
       "      <td>...</td>\n",
       "      <td>...</td>\n",
       "      <td>...</td>\n",
       "    </tr>\n",
       "    <tr>\n",
       "      <th>39995</th>\n",
       "      <td>103550</td>\n",
       "      <td>【출원인, 상 고 인】   한국오루강침주식회사  소송대리인 변리사 김윤배, 이범일,...</td>\n",
       "      <td>특허</td>\n",
       "    </tr>\n",
       "    <tr>\n",
       "      <th>39996</th>\n",
       "      <td>103535</td>\n",
       "      <td>【원고, 피상고인】   승병무  소송대리인 변호사 전상석【피고, 상 고 인】   김...</td>\n",
       "      <td>민사</td>\n",
       "    </tr>\n",
       "    <tr>\n",
       "      <th>39997</th>\n",
       "      <td>103544</td>\n",
       "      <td>【원고, 피상고인】   주식회사 순천상호신용금고  소송대리인 변호사 윤기출【피고, ...</td>\n",
       "      <td>민사</td>\n",
       "    </tr>\n",
       "    <tr>\n",
       "      <th>39998</th>\n",
       "      <td>103581</td>\n",
       "      <td>【피 고 인】 【상 고 인】   피고인들【변 호 인】   변호사 윤태방【원심판결】 ...</td>\n",
       "      <td>형사</td>\n",
       "    </tr>\n",
       "    <tr>\n",
       "      <th>39999</th>\n",
       "      <td>103576</td>\n",
       "      <td>【피 고 인】 【상 고 인】   검사【원심판결】 부산지방법원 1987.4.23. 선...</td>\n",
       "      <td>형사</td>\n",
       "    </tr>\n",
       "  </tbody>\n",
       "</table>\n",
       "<p>40000 rows × 3 columns</p>\n",
       "</div>"
      ],
      "text/plain": [
       "           ID                                               판례내용  판결유형\n",
       "0      216815  【원고, 피상고인】 원고 (소송대리인 변호사 방극성 외 2인)【피고, 상고인】 완주...  일반행정\n",
       "1      216821  【피 고 인】 피고인【상 고 인】 피고인【변 호 인】 법무법인 청목 담당변호사 김형...    형사\n",
       "2      216819  【피 고 인】 피고인【상 고 인】 피고인【변 호 인】 법무법인 더가람 담당변호사 박...    형사\n",
       "3      216807  【원고, 상고인】 현대건설 주식회사 (소송대리인 법무법인(유한) 지평 담당변호사 김...    민사\n",
       "4      216803  【원고, 피상고인 겸 상고인】 한국토지주택공사 (소송대리인 변호사 박석곤)【피고, ...    민사\n",
       "...       ...                                                ...   ...\n",
       "39995  103550  【출원인, 상 고 인】   한국오루강침주식회사  소송대리인 변리사 김윤배, 이범일,...    특허\n",
       "39996  103535  【원고, 피상고인】   승병무  소송대리인 변호사 전상석【피고, 상 고 인】   김...    민사\n",
       "39997  103544  【원고, 피상고인】   주식회사 순천상호신용금고  소송대리인 변호사 윤기출【피고, ...    민사\n",
       "39998  103581  【피 고 인】 【상 고 인】   피고인들【변 호 인】   변호사 윤태방【원심판결】 ...    형사\n",
       "39999  103576  【피 고 인】 【상 고 인】   검사【원심판결】 부산지방법원 1987.4.23. 선...    형사\n",
       "\n",
       "[40000 rows x 3 columns]"
      ]
     },
     "execution_count": 2,
     "metadata": {},
     "output_type": "execute_result"
    }
   ],
   "source": [
    "info_df = pd.read_excel(\"id_판례내용.xlsx\")\n",
    "info_df"
   ]
  },
  {
   "cell_type": "code",
   "execution_count": null,
   "metadata": {},
   "outputs": [],
   "source": []
  },
  {
   "cell_type": "code",
   "execution_count": null,
   "metadata": {},
   "outputs": [],
   "source": []
  },
  {
   "cell_type": "code",
   "execution_count": null,
   "metadata": {},
   "outputs": [],
   "source": []
  },
  {
   "cell_type": "code",
   "execution_count": null,
   "metadata": {},
   "outputs": [],
   "source": []
  },
  {
   "cell_type": "code",
   "execution_count": null,
   "metadata": {},
   "outputs": [],
   "source": []
  },
  {
   "cell_type": "code",
   "execution_count": null,
   "metadata": {},
   "outputs": [],
   "source": []
  }
 ],
 "metadata": {
  "kernelspec": {
   "display_name": "Python 3",
   "language": "python",
   "name": "python3"
  },
  "language_info": {
   "codemirror_mode": {
    "name": "ipython",
    "version": 3
   },
   "file_extension": ".py",
   "mimetype": "text/x-python",
   "name": "python",
   "nbconvert_exporter": "python",
   "pygments_lexer": "ipython3",
   "version": "3.8.5"
  }
 },
 "nbformat": 4,
 "nbformat_minor": 4
}
