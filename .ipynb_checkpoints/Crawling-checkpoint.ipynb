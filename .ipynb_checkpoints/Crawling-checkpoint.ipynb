{
 "cells": [
  {
   "cell_type": "code",
   "execution_count": 2,
   "metadata": {},
   "outputs": [],
   "source": [
    "import requests\n",
    "from urllib.request import urlopen\n",
    "from urllib.parse import urlencode,unquote,quote_plus\n",
    "import urllib\n",
    "import lxml\n",
    "import pandas as pd\n",
    "import numpy as np\n",
    "from bs4 import BeautifulSoup\n",
    "import re"
   ]
  },
  {
   "cell_type": "code",
   "execution_count": 3,
   "metadata": {},
   "outputs": [
    {
     "name": "stdout",
     "output_type": "stream",
     "text": [
      " http://www.law.go.kr/DRF/lawService.do?OC=bmsong&target=prec&ID=216821&type=XML\n"
     ]
    }
   ],
   "source": [
    "# 법령 XML 상세조회 (시행기준. target=eflaw)\n",
    "\n",
    "#기본 url\n",
    "url_base = \" http://www.law.go.kr/DRF/lawService.do\"\n",
    "\n",
    "#조회 url 세부 설정\n",
    "user_id = 'bmsong' #open API ID (bmsong@kau.ac.kr의 아이디 부분)\n",
    "target = \"prec\" #법령 조회시\n",
    "ID = \"216821\" #ID 또는 MST #산업안전보건법 MST 218289\n",
    "#ID = \"001766\" \n",
    "            #ID 산업안전보건법 법령ID 001766 (설명에는 ID로 조회하면 현행법령이 조회된다는데, \n",
    "            #target을 eflaw로 하면 ID로 요청해도, MST로 요청해도 같은 것 같다.\n",
    "Type = \"XML\" #출력 형태 : HTML 또는 XML\n",
    "\n",
    "url_sub = \"?\" +\\\n",
    "        \"OC=\" + user_id +\\\n",
    "        \"&target=\" + target +\\\n",
    "        \"&ID=\" + ID +\\\n",
    "        \"&type=\" + Type\n",
    "\n",
    "#최종 url\n",
    "url = url_base + url_sub\n",
    "\n",
    "print(url)\n",
    "\n",
    "response = requests.get(url)\n",
    "\n",
    "#(1) response.text 사용하는 방법\n",
    "#soup = BeautifulSoup(response.text.encode('utf-8'), 'lxml-xml') #lxml-xml -> lxml 추가 설치 필요(Beautifulsoup과 별도로 설치)\n",
    "\n",
    "#(2) response.content 사용하는 방법\n",
    "soup = BeautifulSoup(response.content, 'lxml-xml') #lxml-xml -> lxml 추가 설치 필요(Beautifulsoup과 별도로 설치)\n",
    "\n",
    "\n",
    "# soup"
   ]
  },
  {
   "cell_type": "code",
   "execution_count": 4,
   "metadata": {},
   "outputs": [
    {
     "data": {
      "text/html": [
       "<div>\n",
       "<style scoped>\n",
       "    .dataframe tbody tr th:only-of-type {\n",
       "        vertical-align: middle;\n",
       "    }\n",
       "\n",
       "    .dataframe tbody tr th {\n",
       "        vertical-align: top;\n",
       "    }\n",
       "\n",
       "    .dataframe thead th {\n",
       "        text-align: right;\n",
       "    }\n",
       "</style>\n",
       "<table border=\"1\" class=\"dataframe\">\n",
       "  <thead>\n",
       "    <tr style=\"text-align: right;\">\n",
       "      <th></th>\n",
       "      <th>사건명</th>\n",
       "      <th>사건번호</th>\n",
       "      <th>선고일자</th>\n",
       "      <th>법원명</th>\n",
       "      <th>법원종류코드</th>\n",
       "      <th>사건종류코드</th>\n",
       "      <th>판결유형</th>\n",
       "    </tr>\n",
       "  </thead>\n",
       "  <tbody>\n",
       "    <tr>\n",
       "      <th>0</th>\n",
       "      <td>강도상해</td>\n",
       "      <td>2020도4539</td>\n",
       "      <td>20210630</td>\n",
       "      <td>대법원</td>\n",
       "      <td>400201</td>\n",
       "      <td>400102</td>\n",
       "      <td>판결</td>\n",
       "    </tr>\n",
       "  </tbody>\n",
       "</table>\n",
       "</div>"
      ],
      "text/plain": [
       "    사건명       사건번호      선고일자  법원명  법원종류코드  사건종류코드 판결유형\n",
       "0  강도상해  2020도4539  20210630  대법원  400201  400102   판결"
      ]
     },
     "execution_count": 4,
     "metadata": {},
     "output_type": "execute_result"
    }
   ],
   "source": [
    "# 잘 받아들여와 지는지 확인용으로 있는것임\n",
    "\n",
    "lc_basic_df = pd.DataFrame() #DataFrame for Law Content \n",
    "\n",
    "data = soup.find('사건명') #ID 정보\n",
    "lc_basic_df['사건명'] = [data.get_text()]\n",
    "\n",
    "data = soup.find('사건번호') \n",
    "lc_basic_df['사건번호']= [data.get_text()]\n",
    "\n",
    "data = soup.find('선고일자') \n",
    "lc_basic_df['선고일자']= [data.get_text()]\n",
    "\n",
    "data = soup.find('법원명')\n",
    "lc_basic_df['법원명'] = [data.get_text()]\n",
    "\n",
    "data = soup.find('법원종류코드') \n",
    "lc_basic_df['법원종류코드']= [data.get_text()]\n",
    "\n",
    "data = soup.find('사건종류코드') \n",
    "lc_basic_df['사건종류코드']= [data.get_text()]\n",
    "\n",
    "data = soup.find('판결유형') \n",
    "lc_basic_df['판결유형']= [data.get_text()]\n",
    "\n",
    "lc_basic_df"
   ]
  }
 ],
 "metadata": {
  "kernelspec": {
   "display_name": "Python 3",
   "language": "python",
   "name": "python3"
  },
  "language_info": {
   "codemirror_mode": {
    "name": "ipython",
    "version": 3
   },
   "file_extension": ".py",
   "mimetype": "text/x-python",
   "name": "python",
   "nbconvert_exporter": "python",
   "pygments_lexer": "ipython3",
   "version": "3.8.5"
  }
 },
 "nbformat": 4,
 "nbformat_minor": 4
}
