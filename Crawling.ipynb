{
 "cells": [
  {
   "cell_type": "code",
   "execution_count": 2,
   "metadata": {},
   "outputs": [],
   "source": [
    "import requests\n",
    "from urllib.request import urlopen\n",
    "from urllib.parse import urlencode,unquote,quote_plus\n",
    "import urllib\n",
    "import lxml\n",
    "import pandas as pd\n",
    "import numpy as np\n",
    "from bs4 import BeautifulSoup\n",
    "import re"
   ]
  },
  {
   "cell_type": "code",
   "execution_count": 11,
   "metadata": {},
   "outputs": [
    {
     "name": "stdout",
     "output_type": "stream",
     "text": [
      " http://www.law.go.kr/DRF/lawService.do?OC=bmsong&target=prec&ID=216839&type=XML\n"
     ]
    }
   ],
   "source": [
    "# 법령 XML 상세조회 (시행기준. target=eflaw)\n",
    "\n",
    "#기본 url\n",
    "url_base = \" http://www.law.go.kr/DRF/lawService.do\"\n",
    "\n",
    "#조회 url 세부 설정\n",
    "user_id = 'bmsong' #open API ID (bmsong@kau.ac.kr의 아이디 부분)\n",
    "target = \"prec\" #법령 조회시\n",
    "ID = \"216839\" #ID 또는 MST #산업안전보건법 MST 218289\n",
    "#ID = \"001766\" \n",
    "            #ID 산업안전보건법 법령ID 001766 (설명에는 ID로 조회하면 현행법령이 조회된다는데, \n",
    "            #target을 eflaw로 하면 ID로 요청해도, MST로 요청해도 같은 것 같다.\n",
    "Type = \"XML\" #출력 형태 : HTML 또는 XML\n",
    "\n",
    "url_sub = \"?\" +\\\n",
    "        \"OC=\" + user_id +\\\n",
    "        \"&target=\" + target +\\\n",
    "        \"&ID=\" + ID +\\\n",
    "        \"&type=\" + Type\n",
    "\n",
    "#최종 url\n",
    "url = url_base + url_sub\n",
    "\n",
    "print(url)\n",
    "\n",
    "response = requests.get(url)\n",
    "\n",
    "#(1) response.text 사용하는 방법\n",
    "#soup = BeautifulSoup(response.text.encode('utf-8'), 'lxml-xml') #lxml-xml -> lxml 추가 설치 필요(Beautifulsoup과 별도로 설치)\n",
    "\n",
    "#(2) response.content 사용하는 방법\n",
    "soup = BeautifulSoup(response.content, 'lxml-xml') #lxml-xml -> lxml 추가 설치 필요(Beautifulsoup과 별도로 설치)\n",
    "\n",
    "\n",
    "# soup"
   ]
  },
  {
   "cell_type": "code",
   "execution_count": 12,
   "metadata": {},
   "outputs": [
    {
     "data": {
      "text/html": [
       "<div>\n",
       "<style scoped>\n",
       "    .dataframe tbody tr th:only-of-type {\n",
       "        vertical-align: middle;\n",
       "    }\n",
       "\n",
       "    .dataframe tbody tr th {\n",
       "        vertical-align: top;\n",
       "    }\n",
       "\n",
       "    .dataframe thead th {\n",
       "        text-align: right;\n",
       "    }\n",
       "</style>\n",
       "<table border=\"1\" class=\"dataframe\">\n",
       "  <thead>\n",
       "    <tr style=\"text-align: right;\">\n",
       "      <th></th>\n",
       "      <th>사건명</th>\n",
       "      <th>사건번호</th>\n",
       "      <th>선고일자</th>\n",
       "      <th>법원명</th>\n",
       "      <th>법원종류코드</th>\n",
       "      <th>사건종류코드</th>\n",
       "      <th>판결유형</th>\n",
       "    </tr>\n",
       "  </thead>\n",
       "  <tbody>\n",
       "    <tr>\n",
       "      <th>0</th>\n",
       "      <td>공직선거법위반</td>\n",
       "      <td>2019도13234</td>\n",
       "      <td>20210624</td>\n",
       "      <td>대법원</td>\n",
       "      <td>400201</td>\n",
       "      <td>400102</td>\n",
       "      <td>판결</td>\n",
       "    </tr>\n",
       "  </tbody>\n",
       "</table>\n",
       "</div>"
      ],
      "text/plain": [
       "       사건명        사건번호      선고일자  법원명  법원종류코드  사건종류코드 판결유형\n",
       "0  공직선거법위반  2019도13234  20210624  대법원  400201  400102   판결"
      ]
     },
     "execution_count": 12,
     "metadata": {},
     "output_type": "execute_result"
    }
   ],
   "source": [
    "# API로 잘 받아들여와 지는지 확인용으로 있는것임\n",
    "\n",
    "lc_basic_df = pd.DataFrame() #DataFrame for Law Content \n",
    "\n",
    "data = soup.find('사건명') #ID 정보\n",
    "lc_basic_df['사건명'] = [data.get_text()]\n",
    "\n",
    "data = soup.find('사건번호') \n",
    "lc_basic_df['사건번호']= [data.get_text()]\n",
    "\n",
    "data = soup.find('선고일자') \n",
    "lc_basic_df['선고일자']= [data.get_text()]\n",
    "\n",
    "data = soup.find('법원명')\n",
    "lc_basic_df['법원명'] = [data.get_text()]\n",
    "\n",
    "data = soup.find('법원종류코드') \n",
    "lc_basic_df['법원종류코드']= [data.get_text()]\n",
    "\n",
    "data = soup.find('사건종류코드') \n",
    "lc_basic_df['사건종류코드']= [data.get_text()]\n",
    "\n",
    "data = soup.find('판결유형') \n",
    "lc_basic_df['판결유형']= [data.get_text()]\n",
    "\n",
    "lc_basic_df"
   ]
  },
  {
   "cell_type": "code",
   "execution_count": 13,
   "metadata": {},
   "outputs": [
    {
     "data": {
      "text/plain": [
       "'【피 고 인】 피고인<br/>【상 고 인】 피고인<br/>【변 호 인】 법무법인 소백 외 1인<br/>【원심판결】 서울고법 2019. 9. 6. 선고 2019노427 판결<br/>【주    문】<br/>상고를 기각한다.<br/><br/>【이    유】상고이유(상고이유서 제출기간이 지난 후에 제출된 상고이유보충서의 기재는 상고이유를 보충하는 범위 내에서)를 판단한다.<br/>  1. 가. 공직선거법 제112조 제1항의 기부행위는 그에 의한 기부의 효과를 후보자 또는 후보자가 되려는 자에게 돌리려는 의사를 가지고 공직선거법 제112조 제1항에 규정된 사람에게 금품 등을 제공하는 것으로서 그 출연자가 기부행위자가 되는 것이 통례이지만, 그 기부행위를 한 것으로 평가되는 주체인 기부행위자는 항상 그 물품 등의 사실상 출연자에 한정되는 것은 아니다. 출연자와 기부행위자가 일치하지 않거나 외형상 기부행위에 함께 관여하는 듯이 보여서 어느 쪽이 기부행위자인지 분명하지 않은 경우에는 그 물품 등이 출연된 동기 또는 목적, 출연행위와 기부행위의 실행 경위, 기부자와 출연자 그리고 기부받는 자와의 관계 등 모든 사정을 종합하여 기부행위자를 특정하여야 한다. 따라서 공직선거법 제115조 위반의 주체는 위와 같은 사정을 종합하여 기부행위자로 평가되는 자에 해당하면 충분하고, 반드시 제공한 물품에 대한 소유권 또는 처분권을 가지는 자에 해당하여야 하는 것은 아니다(<a href=\"#AJAX\" onclick=\"javascript:showCase(\\'2007도9507\\');\" >대법원 2008. 3. 13. 선고 2007도9507 판결</a>, <a href=\"#AJAX\" onclick=\"javascript:showCase(\\'2011도3862\\');\" >대법원 2011. 7. 14. 선고 2011도3862 판결</a> 등 참조).<br/>  나. 공직선거법 제115조 전문은 “제113조(후보자 등의 기부행위제한) 또는 제114조(정당 및 후보자의 가족 등의 기부행위제한)에 규정되지 아니한 자라도 누구든지 ‘선거에 관하여’ 후보자(후보자가 되고자 하는 자를 포함한다) 또는 그 소속정당(창당준비위원회를 포함한다)을 위하여 기부행위를 하거나 하게 할 수 없다.”라고 규정하고 있다. 여기서 “선거에 관하여”라 함은 당해 선거를 위한 선거운동이 되지 아니하더라도 당해 선거를 동기로 하거나 빌미로 하는 등 당해 선거와 관련이 있는 것을 말한다. <br/>그리고 공직선거법 제1조가 “이 법은 대한민국헌법과 지방자치법에 의한 선거가 국민의 자유로운 의사와 민주적인 절차에 의하여 공정히 행하여지도록 하고, 선거와 관련한 부정을 방지함으로써 민주정치의 발전에 기여함을 목적으로 한다.”라고 규정하고, 제7조가 정당ㆍ후보자 등의 공정경쟁의무를 규정하고 있으며, 제47조 제1항이 정당이 공직선거의 후보자를 추천할 수 있음을 규정하면서 제2항이 “정당이 제1항에 따라 후보자를 추천하는 때에는 민주적인 절차에 따라야 한다.”라고 규정하여, 정당 내에서의 민주적 절차에 의한 후보자 공천을 공직선거가 국민의 자유로운 의사와 민주적인 절차에 의하여 공정히 행하여지도록 하는 제도의 일환으로 보고 있는 점 등을 고려하면, 공직선거에 출마할 정당추천 후보자를 선출하기 위한 당내경선도 당해 공직선거를 연유로 한 것이어서 궁극적으로는 당해 공직선거와 관련한 것이다. 따라서 공직선거에 출마할 정당추천 후보자를 선출하기 위한 당내경선에 즈음하여 제3자가 당내에서 후보선출권이 있고 동시에 당해 선거구 안에 있거나 그 선거구민과 연고가 있는 자에 대하여 그 후보자를 지지하도록 하기 위하여 금품을 수수하는 행위도 당해 공직선거와 관련하여 행하는 것으로서 공직선거법 제115조가 금지하는 기부행위에 해당한다(<a href=\"#AJAX\" onclick=\"javascript:showCase(\\'96도405\\');\" >대법원 1996. 6. 14. 선고 96도405 판결</a>, <a href=\"#AJAX\" onclick=\"javascript:showCase(\\'2012도15497\\');\" >대법원 2013. 4. 11. 선고 2012도15497 판결</a> 등 참조).<br/>  2. 원심은 그 판시와 같은 이유로, 피고인은 금품의 단순한 전달자가 아니라 <a href=\"#AJAX\" class=\"link\" onclick=\"javascript:fncLawPop(\\'공직선거법\\',\\'JO\\',\\'011500\\',\\'prec\\');\" >공직선거법 제115조</a> 위반의 주체인 기부행위자에 해당하고, 당내경선도 당해 공직선거와 관련된 것으로 피고인이 (정당명 생략)의 이 사건 비례대표선거 후보자 순위 선정을 위한 당내경선에서 지역상무위원을 포섭하여 공소외인을 비례대표 1순위 후보자로 선출되게 하기 위하여 기부행위를 하였으므로 피고인은 이 사건 비례대표선거에 관하여 공소외인을 위하여 기부행위를 한 것이라고 보아, 이 사건 공소사실을 유죄로 판단한 제1심판결을 그대로 유지하였다. <br/>  원심판결 이유를 앞서 본 법리와 적법하게 채택된 증거에 따라 살펴보면, 원심의 판단에 논리와 경험의 법칙을 위반하여 자유심증주의의 한계를 벗어나거나 상고이유 주장과 같이 <a href=\"#AJAX\" class=\"link\" onclick=\"javascript:fncLawPop(\\'공직선거법\\',\\'JO\\',\\'011500\\',\\'prec\\');\" >공직선거법 제115조</a>의 적용범위와 기부행위의 주체 등에 관한 법리를 위반한 잘못이 없다. <br/>  3. 그러므로 상고를 기각하기로 하여, 관여 대법관의 일치된 의견으로 주문과 같이 판결한다. <br/><br/><div style=\\'text-align:center\\'>대법관 박정화(재판장) 이기택 김선수 노태악(주심) </div>'"
      ]
     },
     "execution_count": 13,
     "metadata": {},
     "output_type": "execute_result"
    }
   ],
   "source": [
    "data = soup.find('판례내용').get_text()\n",
    "data"
   ]
  }
 ],
 "metadata": {
  "kernelspec": {
   "display_name": "Python 3",
   "language": "python",
   "name": "python3"
  },
  "language_info": {
   "codemirror_mode": {
    "name": "ipython",
    "version": 3
   },
   "file_extension": ".py",
   "mimetype": "text/x-python",
   "name": "python",
   "nbconvert_exporter": "python",
   "pygments_lexer": "ipython3",
   "version": "3.8.5"
  }
 },
 "nbformat": 4,
 "nbformat_minor": 4
}
